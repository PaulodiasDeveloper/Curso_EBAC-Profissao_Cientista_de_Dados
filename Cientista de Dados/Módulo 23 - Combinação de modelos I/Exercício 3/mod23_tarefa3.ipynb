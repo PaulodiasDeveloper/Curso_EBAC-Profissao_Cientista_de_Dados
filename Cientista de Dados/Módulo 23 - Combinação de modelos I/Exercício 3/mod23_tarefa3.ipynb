{
 "cells": [
  {
   "cell_type": "markdown",
   "id": "9123d384",
   "metadata": {},
   "source": [
    "[![ebac_logo-data_science.png](https://github.com/PaulodiasDeveloper/Curso_EBAC-Profissao_Cientista_de_Dados/blob/main/Cientista%20de%20Dados/ebac-course-utils/media/logo/ebac_logo-data_science.png?raw=true)](https://github.com/PaulodiasDeveloper/Curso_EBAC-Profissao_Cientista_de_Dados)\n",
    "\n",
    "<!-- <img src=\"https://github.com/PaulodiasDeveloper/Curso_EBAC-Profissao_Cientista_de_Dados/blob/main/Cientista%20de%20Dados/ebac-course-utils/media/logo/ebac_logo-data_science.png\" alt=\"ebac-logo-data-science\"> -->\n",
    "\n",
    "---\n",
    "\n",
    "<!-- # **Profissão: Cientista de Dados** -->\n",
    "### **Módulo 23** | Combinação de modelos I | Exercício 3\n",
    "\n",
    "**Aluno:** [Paulo Roberto](https://www.linkedin.com/in/paulo-roberto/)<br>\n",
    "**Data:** 20 de abril de 2025.\n",
    "\n",
    "--- "
   ]
  },
  {
   "cell_type": "markdown",
   "id": "ecd80bb6",
   "metadata": {},
   "source": [
    "## Tarefa 3"
   ]
  },
  {
   "cell_type": "markdown",
   "id": "edffe82b",
   "metadata": {},
   "source": [
    "#### 1. Quais são os hiperparâmetros do Random Forest?"
   ]
  },
  {
   "cell_type": "markdown",
   "id": "7bcabe5a",
   "metadata": {},
   "source": [
    "Os principais hiperparâmetros do algoritmo Random Forest incluem:\n",
    "\n",
    "- n_estimators\n",
    "- max_features\n",
    "- max_depth\n",
    "- min_samples_split\n",
    "- min_samples_leaf\n",
    "- bootstrap\n",
    "- criterion\n",
    "- random_state"
   ]
  },
  {
   "cell_type": "markdown",
   "id": "61cbef7f",
   "metadata": {},
   "source": [
    "#### 2. Pra que serve cada um deles?"
   ]
  },
  {
   "cell_type": "markdown",
   "id": "fe107c68",
   "metadata": {},
   "source": [
    "**n_estimators**:\n",
    "\n",
    "- Descrição: Número de árvores na floresta.\n",
    "- Função: Aumentar o número de árvores geralmente melhora a performance do modelo, mas também aumenta o tempo de treinamento.\n",
    "\n",
    "**max_features**:\n",
    "\n",
    "- Descrição: Número máximo de features a serem consideradas para dividir um nó.\n",
    "- Função: Controla a diversidade das árvores. Valores menores aumentam a diversidade, reduzindo a correlação entre as árvores e potencialmente melhorando a performance.\n",
    "\n",
    "**max_depth**:\n",
    "\n",
    "- Descrição: Profundidade máxima das árvores.\n",
    "- Função: Limitar a profundidade das árvores pode prevenir overfitting. Árvores muito profundas podem capturar ruído dos dados.\n",
    "\n",
    "**min_samples_split**:\n",
    "\n",
    "- Descrição: Número mínimo de amostras necessárias para dividir um nó.\n",
    "- Função: Controla a divisão dos nós. Valores maiores podem prevenir overfitting ao exigir mais amostras para dividir um nó.\n",
    "\n",
    "**min_samples_leaf**:\n",
    "\n",
    "- Descrição: Número mínimo de amostras necessárias em um nó folha.\n",
    "- Função: Controla o tamanho das folhas. Valores maiores podem prevenir overfitting ao exigir mais amostras em cada nó folha.\n",
    "\n",
    "**bootstrap**:\n",
    "\n",
    "- Descrição: Indica se amostras bootstrap são usadas ao construir árvores.\n",
    "- Função: Se True, utiliza amostragem com reposição, aumentando a diversidade das árvores.\n",
    "\n",
    "**criterion**:\n",
    "\n",
    "- Descrição: Função usada para medir a qualidade de uma divisão.\n",
    "- Função: Pode ser gini ou entropy para classificação, ou mse para regressão. Define como as divisões são feitas nas árvores.\n",
    "\n",
    "**random_state**:\n",
    "\n",
    "- Descrição: Controla a aleatoriedade do modelo.\n",
    "- Função: Garantir reprodutibilidade dos resultados ao fixar a semente da aleatoriedade.\n",
    "\n",
    "Esses hiperparâmetros permitem ajustar o modelo para melhor performance e controle sobre o processo de aprendizado. Se precisar de mais detalhes ou ajuda com alguma parte específica, estou aqui para ajudar!"
   ]
  }
 ],
 "metadata": {
  "language_info": {
   "name": "python"
  }
 },
 "nbformat": 4,
 "nbformat_minor": 5
}
