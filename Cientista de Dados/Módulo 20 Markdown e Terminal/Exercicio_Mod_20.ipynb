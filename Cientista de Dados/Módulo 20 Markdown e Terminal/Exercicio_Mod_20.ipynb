{
 "cells": [
  {
   "cell_type": "markdown",
   "metadata": {},
   "source": [
    "<h3 style=\"text-align: center; color: #003366; font-weight: bold;\">Fórmula de Bhaskara</h3>\n",
    "\n",
    "\n",
    "<div style=\"text-align: center;\">A solução para uma função de segundo grau depende das suas raízes (valores de x). Como já vimos, os coeficientes <br>\n",
    "precisam ser números reais e o angular diferente de zero. Sendo assim, temos a seguinte fórmula de Bhaskara:</div><br>\n",
    "\n",
    "$$\n",
    "x = \\frac{-b \\pm \\sqrt{b^2 - 4ac}}{2a}\n",
    "$$\n",
    "\n",
    "\n",
    "<div style=\"text-align: center;\"><em>Fórmula de Bhaskara.</em></div><br>\n",
    "\n",
    "<div style=\"text-align: center;\">Para melhor compreensão, o seu cálculo é dividido em duas partes:  \n",
    "discriminante da equação e operações para determinar as raízes.</div>\n",
    "\n",
    "---\n",
    "\n",
    "<h3 style=\"text-align: center; color: #003366; font-weight: bold;\">Discriminante</h3><br>\n",
    "\n",
    "<div style=\"text-align: center;\">A figura dentro da raiz na fórmula de Bhaskara é nomeada de discriminante.  \n",
    "Seu símbolo é a letra grega delta e apresenta a seguinte fórmula:</div>\n",
    "\n",
    "$$\n",
    "\\Delta = b^2 - 4ac\n",
    "$$\n",
    "\n",
    "<div style=\"text-align: center;\"><em>Fórmula do discriminante.</em></div><br>\n",
    "\n",
    "\n",
    "<div style=\"width: fit-content; margin: 0 auto;\">\n",
    "  <ul>\n",
    "    <li>Se Δ &gt; 0, a equação terá dois valores reais e distintos.</li>\n",
    "    <li>Se Δ = 0, a equação terá um único valor real.</li>\n",
    "    <li>Se Δ &lt; 0, a equação não terá valores reais.</li>\n",
    "  </ul>\n",
    "</div>\n",
    "\n"
   ]
  }
 ],
 "metadata": {
  "language_info": {
   "name": "python"
  }
 },
 "nbformat": 4,
 "nbformat_minor": 2
}
